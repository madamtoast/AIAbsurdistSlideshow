{
 "cells": [
  {
   "cell_type": "markdown",
   "metadata": {},
   "source": [
    "# MovieAssembler"
   ]
  },
  {
   "cell_type": "markdown",
   "metadata": {},
   "source": [
    "File Name: MovieAssembler.ipynb\n",
    "\n",
    "Description: Creates movie of randomly-generated slides from directory of images.\n",
    "\n",
    "Author: Adam Post\n",
    "Date: 8/8/2023"
   ]
  },
  {
   "cell_type": "code",
   "execution_count": 3,
   "metadata": {},
   "outputs": [],
   "source": [
    "# Imports relevant packages\n",
    "import os\n",
    "import moviepy\n",
    "from moviepy.editor import *"
   ]
  },
  {
   "cell_type": "code",
   "execution_count": 5,
   "metadata": {},
   "outputs": [
    {
     "name": "stderr",
     "output_type": "stream",
     "text": [
      "\r",
      "chunk:   0%|          | 0/222044 [00:00<?, ?it/s, now=None]"
     ]
    },
    {
     "name": "stdout",
     "output_type": "stream",
     "text": [
      "Moviepy - Building video AI Absurdist Slideshow v3.mp4.\n",
      "MoviePy - Writing audio in AI Absurdist Slideshow v3TEMP_MPY_wvf_snd.mp3\n"
     ]
    },
    {
     "name": "stderr",
     "output_type": "stream",
     "text": [
      "t:   0%|          | 2/302100 [00:00<5:51:50, 14.31it/s, now=None]        "
     ]
    },
    {
     "name": "stdout",
     "output_type": "stream",
     "text": [
      "MoviePy - Done.\n",
      "Moviepy - Writing video AI Absurdist Slideshow v3.mp4\n",
      "\n"
     ]
    },
    {
     "name": "stderr",
     "output_type": "stream",
     "text": [
      "                                                                        \r"
     ]
    },
    {
     "name": "stdout",
     "output_type": "stream",
     "text": [
      "Moviepy - Done !\n",
      "Moviepy - video ready AI Absurdist Slideshow v3.mp4\n"
     ]
    }
   ],
   "source": [
    "# Sets working directory and references filepaths of images\n",
    "os.chdir('C:/Users/ap625/Documents/AI Absurdism/Output')\n",
    "video_clips = [ImageClip(m).set_duration(10).fx(vfx.fadein, 1).fx(vfx.fadeout, 1) for m in os.listdir()]\n",
    "\n",
    "# Retrieves audio from directory\n",
    "os.chdir('C:/Users/ap625/Documents/AI Absurdism/')\n",
    "audio_clip = AudioFileClip('Absurdist Music.mp3')\n",
    "\n",
    "# Concatenates videos together\n",
    "final_video = concatenate_videoclips(video_clips, method = \"compose\")\n",
    "\n",
    "# Loops audio\n",
    "new_audio = afx.audio_loop(audio_clip, duration = final_video.duration)\n",
    "final_video.audio = new_audio\n",
    "\n",
    "# Exports final video\n",
    "final_video.write_videofile(\"AI Absurdist Slideshow v3.mp4\", fps = 30)"
   ]
  }
 ],
 "metadata": {
  "kernelspec": {
   "display_name": "Python 3",
   "language": "python",
   "name": "python3"
  },
  "language_info": {
   "codemirror_mode": {
    "name": "ipython",
    "version": 3
   },
   "file_extension": ".py",
   "mimetype": "text/x-python",
   "name": "python",
   "nbconvert_exporter": "python",
   "pygments_lexer": "ipython3",
   "version": "3.8.8"
  }
 },
 "nbformat": 4,
 "nbformat_minor": 2
}
